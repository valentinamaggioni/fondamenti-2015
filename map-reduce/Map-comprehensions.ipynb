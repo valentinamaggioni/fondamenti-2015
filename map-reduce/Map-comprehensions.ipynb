{
 "cells": [
  {
   "cell_type": "markdown",
   "metadata": {},
   "source": [
    "# Teste, code, mappe, riduzioni"
   ]
  },
  {
   "cell_type": "markdown",
   "metadata": {},
   "source": [
    "Un problema onnipresente, in informatica come nella vita di tutti i giorni, è la *ricerca* di un elemento in un insieme: un numero in un'agenda, il senso nella vita, un ago in un pagliaio.\n",
    "\n",
    "Ebbene, diamo il nostro constributo: scriviamo una funzione `appartiene(x, t)`, che ci dica se l'elemento `x` è presente nella sequenza `t`.\n",
    "\n",
    "Riprendiamo un po' di terminologia: data una sequenza (ad esempio una lista, o una tupla) `l`, si dice, con pregevole sensibilità zoo-anatomica, *testa* (*head*) il suo primo elemento, e *coda* (*tail*) la sequenza *decapitata*, cioè tolto il primo elemento. \n",
    "\n",
    "Immaginiamo di avere due funzioni, `head` e `tail`, che agiscono su una generica lista, e ci consentono di ottenerne appunto testa e coda (in Python possono facilmente essere implementate in modo ovvio utilizzando l'operatore `[]`)\n",
    "\n",
    "Es:\n",
    "\n",
    "1. `head([1,2,3]) == 1`\n",
    "2. `tail([1,2,3]) == [2,3]`\n",
    "\n",
    "Si noti, in particolare, come la testa sia in generale un elemento, mentre la coda sia sempre una sequenza.\n",
    "\n",
    "Ebbene, con questa innocua operazione, apparentemente solo terminologica, ci è molto più facile ragionare in termine ricorsiva sulle sequenze.\n"
   ]
  },
  {
   "cell_type": "markdown",
   "metadata": {},
   "source": [
    "In Python, la definizione di `head` e `tail` è semplice:"
   ]
  },
  {
   "cell_type": "code",
   "execution_count": 31,
   "metadata": {
    "collapsed": true
   },
   "outputs": [],
   "source": [
    "def head(t):\n",
    "    return t[0]\n",
    "\n",
    "def tail(t):\n",
    "    return t[1:]"
   ]
  },
  {
   "cell_type": "markdown",
   "metadata": {},
   "source": [
    "Per esempio, proviamo a scrivere una funzione `appartiene(x, t)`, che ci dica se l'elemento `x` è presente nella sequenza `t`."
   ]
  },
  {
   "cell_type": "markdown",
   "metadata": {},
   "source": [
    "Generalizziamo un po': chiediamoci quante volte `x` è presente in `t`, definendo un'appostia funzione `cont(x, t)`."
   ]
  },
  {
   "cell_type": "markdown",
   "metadata": {},
   "source": [
    "Possiamo definire `cont(x, t)` ricorsivamente? Per rispondere, proviamo a chiederci: se qualcuno ci dicesse quante volte `x` è presente in `tail(t)`, cioè quanto vale `cont(x, tail(t))`, sapremmo dire quanto vale `cont(x, t)`?\n",
    "\n",
    "Ma certo: dobbiamo aggiungere `1` a `cont(x, tail(t))` se `head(t) == x`, altrimenti non aggiungiamo niente. Pythonescamente:\n",
    "\n",
    "`cont(x, t) = cont(x, tail(t)) + 1 if head(t) == x else 0`\n",
    "\n",
    "Questo vale fino a quando ha senso parlare di testa di `t`, cioè se la lista non è vuota, cioè se la sua lunghezza è `> 0`.\n",
    "\n",
    "Se `t` è vuota, `x` di certo non è presente neppure una volta:\n",
    "\n",
    "`len(x) == 0` &rArr; `cont(x, t) == 0`"
   ]
  },
  {
   "cell_type": "markdown",
   "metadata": {},
   "source": [
    "Siamo pronti per definire `conta(x, t)`:"
   ]
  },
  {
   "cell_type": "code",
   "execution_count": 27,
   "metadata": {
    "collapsed": true
   },
   "outputs": [],
   "source": [
    "def conta(x, t):\n",
    "    return 0 if len(t) == 0 else conta(x, t[1:]) + (1 if x == t[0] else 0)"
   ]
  },
  {
   "cell_type": "markdown",
   "metadata": {},
   "source": [
    "Proviamo il nostro prodigio:"
   ]
  },
  {
   "cell_type": "code",
   "execution_count": 28,
   "metadata": {
    "collapsed": false
   },
   "outputs": [
    {
     "data": {
      "text/plain": [
       "2"
      ]
     },
     "execution_count": 28,
     "metadata": {},
     "output_type": "execute_result"
    }
   ],
   "source": [
    "a = [1,2,3,4,5,2,1]\n",
    "conta(1,a)"
   ]
  },
  {
   "cell_type": "code",
   "execution_count": 29,
   "metadata": {
    "collapsed": false
   },
   "outputs": [
    {
     "data": {
      "text/plain": [
       "0"
      ]
     },
     "execution_count": 29,
     "metadata": {},
     "output_type": "execute_result"
    }
   ],
   "source": [
    "conta(10,a)"
   ]
  },
  {
   "cell_type": "code",
   "execution_count": 30,
   "metadata": {
    "collapsed": false
   },
   "outputs": [
    {
     "data": {
      "text/plain": [
       "1"
      ]
     },
     "execution_count": 30,
     "metadata": {},
     "output_type": "execute_result"
    }
   ],
   "source": [
    "conta(3,a)"
   ]
  },
  {
   "cell_type": "markdown",
   "metadata": {},
   "source": [
    "** Nota *linguistica***: Possiamo semplificare un po' la nostra definizione notando che in Python è definita la somma tra un valore numerico e un valore logico (True/False): quando sommato ad un numero, `True` vale `1`, mentre `False` vale... (indovinate)."
   ]
  },
  {
   "cell_type": "code",
   "execution_count": 10,
   "metadata": {
    "collapsed": true
   },
   "outputs": [],
   "source": [
    "def conta(x, t):\n",
    "    return 0 if len(t) == 0 else conta(x, t[1:]) + (x == t[0])"
   ]
  },
  {
   "cell_type": "markdown",
   "metadata": {},
   "source": [
    "Tornando alla nostra funzione `appartiene`, dalla quale siamo partiti: la possiamo ora ovviamente definire in termini di `conta`:"
   ]
  },
  {
   "cell_type": "code",
   "execution_count": 11,
   "metadata": {
    "collapsed": true
   },
   "outputs": [],
   "source": [
    "def appartiene(x, t):\n",
    "    return conta(x, t) > 0"
   ]
  },
  {
   "cell_type": "code",
   "execution_count": 12,
   "metadata": {
    "collapsed": false
   },
   "outputs": [
    {
     "data": {
      "text/plain": [
       "True"
      ]
     },
     "execution_count": 12,
     "metadata": {},
     "output_type": "execute_result"
    }
   ],
   "source": [
    "appartiene(1, [1,2,3])"
   ]
  },
  {
   "cell_type": "code",
   "execution_count": 13,
   "metadata": {
    "collapsed": false
   },
   "outputs": [
    {
     "data": {
      "text/plain": [
       "False"
      ]
     },
     "execution_count": 13,
     "metadata": {},
     "output_type": "execute_result"
    }
   ],
   "source": [
    "appartiene(100, [1,2,3])"
   ]
  },
  {
   "cell_type": "markdown",
   "metadata": {},
   "source": [
    "Ora prendiamo in prestito un problema dall'algebra: il prodotto scalare $\\vec{a} \\cdot \\vec{b}$ tra due vettori $a = (a_{0}, a_{1}, ... a_{n})$ e $b = (b_{0}, b_{1}, ... b_{n})$.\n",
    "Come noto il prodotto scalare $\\vec{a} \\cdot \\vec{b}$ è $\\sum_{i=0}^{n}a_{i}\\overline{b_{i}}$ = $a_0 \\cdot \\overline{b_0} + a_1 \\cdot \\overline{b_1} + \\cdots $\n",
    "\n",
    "\n"
   ]
  },
  {
   "cell_type": "markdown",
   "metadata": {},
   "source": [
    "Qui, tanto per cambiare, invece di cercare prima la soluzione a un problema più generale, come abbiamo fatto con `appartiene`, consideriamo, per scaldarci e chiarirci le idee, il caso più particolare di prodotto di un vettore $a$ con *sé stesso*. Come anche i sassi sanno, il prodotto di un vettore con sé stesso corrisponde al quadrato della sua *norma euclidea*:"
   ]
  },
  {
   "cell_type": "markdown",
   "metadata": {},
   "source": [
    "$ \\vec{a} \\cdot \\vec{a} = \\|\\vec{a}\\|^2 = \\sum_{i=0}^{n}|a_i|^2$"
   ]
  },
  {
   "cell_type": "markdown",
   "metadata": {},
   "source": [
    "E la norma euclidea, fatto altrettando noto ai medesimi sassi di cui sopra, generalizza ad uno spazio N-dimensionale il familiare concetto di distanza negli spazi {1,2,3}-dimensionali, ma questa è un'altra storia..."
   ]
  },
  {
   "cell_type": "markdown",
   "metadata": {},
   "source": [
    "Orbene, dobbiamo elevare al quadrato tutti gli elementi della tupla che rappresenta il vettore, e poi sommarli tra di loro. Come facciamo ad elevarli al quadrato?\n",
    "Una proposta è definire una funzione `sqt` (SQuare Tuple) che, ricevuta una tupla, ne ritorna una con gli elementi elevati al quadrato. Possiamo esprimere l'operazione ricorsivamente? *Claro que si!*"
   ]
  },
  {
   "cell_type": "code",
   "execution_count": 43,
   "metadata": {
    "collapsed": false
   },
   "outputs": [],
   "source": [
    "def sqt(t):\n",
    "    if len(t) == 0:\n",
    "        return t\n",
    "    else:\n",
    "        return [head(t)**2]+sqt(tail(t))\n",
    "    "
   ]
  },
  {
   "cell_type": "code",
   "execution_count": 44,
   "metadata": {
    "collapsed": false
   },
   "outputs": [
    {
     "data": {
      "text/plain": [
       "[1, 4, 9]"
      ]
     },
     "execution_count": 44,
     "metadata": {},
     "output_type": "execute_result"
    }
   ],
   "source": [
    "sqt([1,2,3])"
   ]
  },
  {
   "cell_type": "markdown",
   "metadata": {},
   "source": [
    "Ok, ora immaginiamo, di trovarci catapultati in un bizzarro universo parallelo dove, invece di valere il teorema di Pitagora e le sue generalizzazioni multidimensionali (cioè in cui la distanza è la norma euclidea), vale un teorema di cuPitagora, e invece di dover elevare al quadrato, di voler elevare al cubo tutti gli elementi di un array:"
   ]
  },
  {
   "cell_type": "markdown",
   "metadata": {},
   "source": [
    "`cubet` (CUBE Tuple): `[1, 2, 3]` &rarr; `[1, 8, 27]`"
   ]
  },
  {
   "cell_type": "markdown",
   "metadata": {},
   "source": [
    "Una possibile definizione è banalmente quella di `sqt`, con l'elevamento al cubo invece che al quadrato:"
   ]
  },
  {
   "cell_type": "code",
   "execution_count": 46,
   "metadata": {
    "collapsed": true
   },
   "outputs": [],
   "source": [
    "def cubet(t):\n",
    "    if len(t) == 0:\n",
    "      return t\n",
    "    else:\n",
    "      return [head(t)**3]+cubet(tail(t))"
   ]
  },
  {
   "cell_type": "code",
   "execution_count": 47,
   "metadata": {
    "collapsed": false
   },
   "outputs": [
    {
     "data": {
      "text/plain": [
       "[1, 8, 27]"
      ]
     },
     "execution_count": 47,
     "metadata": {},
     "output_type": "execute_result"
    }
   ],
   "source": [
    "cubet([1,2,3])"
   ]
  },
  {
   "cell_type": "markdown",
   "metadata": {},
   "source": [
    "Missione compiuta... però, *dovremmo* sentire un certo disagio... Per definire `cubet` abbiamo praticamente fatto *cut&paste* del codice di `sqt`, e abbiamo cambiato un numero nel ramo di riduzione della ricorsione. Tutto il resto è rimasto invariato..."
   ]
  },
  {
   "cell_type": "markdown",
   "metadata": {},
   "source": [
    "Ebbene, questo non è un modo *elegante*/*efficiente*/*bello* di fare le cose. Stiamo *ripetendo* del codice, e questo non va bene ([perché? esemplificare bene]). In effetti, nella nostra funzione, stiamo facendo due cose:\n",
    "\n",
    "1. stiamo \"scorrendo\" tutti gli elementi della lista\n",
    "2. per ogni elemento della lista, eleviamo al quadrato, o al cubo\n",
    "3. il risultato lo \"appendiamo\" alla lista risultato"
   ]
  },
  {
   "cell_type": "markdown",
   "metadata": {},
   "source": [
    "Ora, il punto 2 può essere generalizzato: \"per ogni elemento della lista, applichiamo all'elemento una funzione f\". In questo modo, `sqt` e `cubet` sono quasi \"la stessa cosa\", e differiscono solo per la funzione applicata."
   ]
  },
  {
   "cell_type": "markdown",
   "metadata": {},
   "source": [
    "Possiamo quindi cercare di \"estrarre\" ciò che c'è di comune in `sqt` e `cubet`: prendere una lista, applicare una certa funzione ad ogni elemento, e raccoliere i risultati in un'altra lista. Questa operazione è così frequente e fondamentale che le si è dato un nome: `map`. Possiamo vedere `map` come una funzione, che prende come argomenti una funzione di trasformazione `f`, una lista `l` fatta dagli elementi `[x0, x1, ...]`, e restituisce la lista `[f(x0), f(x1), ...]`. Scrivere `map` generalizzando `sqt` e `cubet` è un gioco da ragazzi:"
   ]
  },
  {
   "cell_type": "code",
   "execution_count": 56,
   "metadata": {
    "collapsed": true
   },
   "outputs": [],
   "source": [
    "def map(f, t):\n",
    "    if len(t) == 0:\n",
    "        return t\n",
    "    else:\n",
    "        return [f(head(t))]+map(f, tail(t))"
   ]
  },
  {
   "cell_type": "markdown",
   "metadata": {},
   "source": [
    "Per riottenere `sqt` da `map` ci serve solo di definire una funzione che elevi al quadrato:"
   ]
  },
  {
   "cell_type": "code",
   "execution_count": 57,
   "metadata": {
    "collapsed": true
   },
   "outputs": [],
   "source": [
    "def square(x):\n",
    "    return x**2"
   ]
  },
  {
   "cell_type": "markdown",
   "metadata": {},
   "source": [
    "Ora, invece di \"chiamare\" `sqt` possiamo chiamare `map` passando `square` come primo parametro:"
   ]
  },
  {
   "cell_type": "code",
   "execution_count": 58,
   "metadata": {
    "collapsed": false
   },
   "outputs": [
    {
     "data": {
      "text/plain": [
       "[1, 4, 9]"
      ]
     },
     "execution_count": 58,
     "metadata": {},
     "output_type": "execute_result"
    }
   ],
   "source": [
    "map(square, [1, 2, 3])"
   ]
  },
  {
   "cell_type": "markdown",
   "metadata": {},
   "source": [
    "Il mapping è un'operazione così frequente che in Python è stata introdotta una forma sintattica apposita, molto comoda ed espressiva, per descriverla: le *list comprehension*."
   ]
  },
  {
   "cell_type": "markdown",
   "metadata": {},
   "source": [
    "Eccole, in tutto il loro splendore, spiegate con un esempio:"
   ]
  },
  {
   "cell_type": "code",
   "execution_count": 60,
   "metadata": {
    "collapsed": false
   },
   "outputs": [
    {
     "data": {
      "text/plain": [
       "[1, 4, 9]"
      ]
     },
     "execution_count": 60,
     "metadata": {},
     "output_type": "execute_result"
    }
   ],
   "source": [
    "[square(x) for x in [1, 2, 3]]"
   ]
  },
  {
   "cell_type": "markdown",
   "metadata": {},
   "source": [
    "Chiaro come è formata una *comprehension*?"
   ]
  },
  {
   "cell_type": "markdown",
   "metadata": {},
   "source": [
    "In generale, una comprehension ha la forma:"
   ]
  },
  {
   "cell_type": "markdown",
   "metadata": {},
   "source": [
    "`[<map expression> for <name> in <sequence expression> if <filter expression>]`"
   ]
  },
  {
   "cell_type": "markdown",
   "metadata": {},
   "source": [
    "Per prima cosa, l'espressione è racchiusa tra parentesi quadre `[...]`, come una definizione di lista di valori. Quindi c'è un'espressione in un particolare simbolo, in questo caso `x`. Quindi c'è la parola chiave `for`, seguita dal simbolo, e poi `in` e una lista. Il significato è *semplicemente* quello di una `map`: per ogni elemento della lista in fondo, il suo valore viene associato a `x` (il nome è arbitrario, se ne può scegliere uno qualsiasi), quindi viene valutata l'espressione all'inizio (`square(x)` in questo caso), e i valori vengono collezionati in una lista. "
   ]
  },
  {
   "cell_type": "markdown",
   "metadata": {},
   "source": [
    "L'espressione all'inizio quindi corrisponde alla funzione che si passa alla `map`."
   ]
  },
  {
   "cell_type": "markdown",
   "metadata": {},
   "source": [
    "Una delle cose belle delle comprehension è che si può fare una `map` senza dover definire una funzione apposta (come abbiamo dovuto fare con la `square`): l'espressione all'inizio della comprehension definisce la trasformazione che verrà operata sugli elementi. Così, meraviglia, il quadrato di tutti gli elementi della lista lo possiamo scrivere in questo modo:"
   ]
  },
  {
   "cell_type": "code",
   "execution_count": 1,
   "metadata": {
    "collapsed": false
   },
   "outputs": [
    {
     "data": {
      "text/plain": [
       "[1, 4, 9]"
      ]
     },
     "execution_count": 1,
     "metadata": {},
     "output_type": "execute_result"
    }
   ],
   "source": [
    "[x**2 for x in [1, 2, 3]]"
   ]
  },
  {
   "cell_type": "markdown",
   "metadata": {},
   "source": [
    "Se vogliamo definire `sqt` con le nostre nuove conoscenze:"
   ]
  },
  {
   "cell_type": "code",
   "execution_count": 2,
   "metadata": {
    "collapsed": true
   },
   "outputs": [],
   "source": [
    "def sqt2(t):\n",
    "    return [x**2 for x in t]"
   ]
  },
  {
   "cell_type": "markdown",
   "metadata": {},
   "source": [
    "In realtà con le comprehension si può fare una cosa in più: \"filtrare\" la lista che viene mappata."
   ]
  },
  {
   "cell_type": "markdown",
   "metadata": {},
   "source": [
    "Quando viene valutata un'espressione di questo tipo, l'interprete valuta `<sequence expression>`, che deve essere una sequenza (lista o tupla). A questo punto, per ogni elemento `e` della sequenza:\n",
    "1. associa il simbolo `<name>` ad `e`\n",
    "2. valuta `<filter expression>`:\n",
    "    a. se è falsa, passa al prossimo elemento `e`\n",
    "    b. se è vera, valuta `<map expression>`, e \"colleziona\" il risultato\n",
    "Il valore dell'espressione la sequenza di tutti i valori \"collezionati\"."
   ]
  },
  {
   "cell_type": "markdown",
   "metadata": {},
   "source": [
    "Possiamo sfruttare la parte *condizionale* (la condizione dopo l'`if`) per \"filtrare\", cioè tenere solo i valori che soddisfano una certa condizione."
   ]
  },
  {
   "cell_type": "markdown",
   "metadata": {},
   "source": [
    "Per esempio:"
   ]
  },
  {
   "cell_type": "code",
   "execution_count": 10,
   "metadata": {
    "collapsed": false
   },
   "outputs": [
    {
     "data": {
      "text/plain": [
       "[10, 34, 23]"
      ]
     },
     "execution_count": 10,
     "metadata": {},
     "output_type": "execute_result"
    }
   ],
   "source": [
    "[x for x in [10,67,34,23,100] if x < 42]"
   ]
  },
  {
   "cell_type": "markdown",
   "metadata": {},
   "source": [
    "Torniamo al problema di moltiplicare (scalarmente) tra di loro due vettori.\n",
    "Ecco una soluzione basata sull'uso di una `map` (in forma di comprehension).\n",
    "Te la illustro, tu devi capire \"come funziona\"..."
   ]
  },
  {
   "cell_type": "markdown",
   "metadata": {},
   "source": [
    "Per prima cosa, considera questa funzione:"
   ]
  },
  {
   "cell_type": "code",
   "execution_count": 11,
   "metadata": {
    "collapsed": true
   },
   "outputs": [],
   "source": [
    "def zip(a, b):\n",
    "    if len(a) == 0 or len(b) == 0:\n",
    "        return []\n",
    "    return [(a[0], b[0])] + zip(a[1:], b[1:]) "
   ]
  },
  {
   "cell_type": "code",
   "execution_count": 12,
   "metadata": {
    "collapsed": false
   },
   "outputs": [
    {
     "data": {
      "text/plain": [
       "[(1, 3), (2, 4)]"
      ]
     },
     "execution_count": 12,
     "metadata": {},
     "output_type": "execute_result"
    }
   ],
   "source": [
    "zip([1, 2], [3, 4])"
   ]
  },
  {
   "cell_type": "markdown",
   "metadata": {},
   "source": [
    "Hai capito come funziona, e cosa fa?"
   ]
  },
  {
   "cell_type": "markdown",
   "metadata": {},
   "source": [
    "A questo punto, la nostra funzione `prod` che moltiplica due vettori la si può definire così: "
   ]
  },
  {
   "cell_type": "code",
   "execution_count": 13,
   "metadata": {
    "collapsed": true
   },
   "outputs": [],
   "source": [
    "def prod(a, b):\n",
    "    return [x[0] * x[1] for x in zip(a, b)]"
   ]
  },
  {
   "cell_type": "code",
   "execution_count": 14,
   "metadata": {
    "collapsed": false
   },
   "outputs": [
    {
     "data": {
      "text/plain": [
       "[3, 8]"
      ]
     },
     "execution_count": 14,
     "metadata": {},
     "output_type": "execute_result"
    }
   ],
   "source": [
    "prod([1,2],[3,4])"
   ]
  },
  {
   "cell_type": "markdown",
   "metadata": {},
   "source": [
    "# Esercizi"
   ]
  },
  {
   "cell_type": "markdown",
   "metadata": {},
   "source": [
    "1. Scrivi una funzione `divide` che, dati due numeri `n` e `d`, dica (ritorni) se `n` è divisibile per `d`\n",
    "2. Scrivi una funzione `divisori` che, dato un numero `n`, ritorni una lista contenente i suoi divisori"
   ]
  }
 ],
 "metadata": {
  "kernelspec": {
   "display_name": "Python 3",
   "language": "python",
   "name": "python3"
  },
  "language_info": {
   "codemirror_mode": {
    "name": "ipython",
    "version": 3
   },
   "file_extension": ".py",
   "mimetype": "text/x-python",
   "name": "python",
   "nbconvert_exporter": "python",
   "pygments_lexer": "ipython3",
   "version": "3.5.0"
  }
 },
 "nbformat": 4,
 "nbformat_minor": 0
}
